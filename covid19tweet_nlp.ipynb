{
  "nbformat": 4,
  "nbformat_minor": 0,
  "metadata": {
    "colab": {
      "name": "covid19tweet_nlp.ipynb",
      "provenance": [],
      "collapsed_sections": []
    },
    "kernelspec": {
      "name": "python3",
      "display_name": "Python 3"
    },
    "language_info": {
      "name": "python"
    }
  },
  "cells": [
    {
      "cell_type": "markdown",
      "metadata": {
        "id": "wsf5LSWYTebz"
      },
      "source": [
        "\n",
        "Name : Kresna Andika Aprianto <br>\n",
        "Email : kresnaandika36@gmail.com<br>\n",
        "Github : github.com/kresnandika<br>\n",
        "uname dicoding: fiellin\n",
        "\n",
        "===== This code is all my own with some references, feel free to use it, cheers! 🍺 ====="
      ]
    },
    {
      "cell_type": "markdown",
      "metadata": {
        "id": "Wq71uVnazbye"
      },
      "source": [
        "# COVID - 19 Tweets NLP\n",
        "\n"
      ]
    },
    {
      "cell_type": "markdown",
      "metadata": {
        "id": "irToOcIgSgRT"
      },
      "source": [
        "Sentiment analysis is contextual mining of text which identifies and extracts subjective information in source material, and helping a business to understand the social sentiment of their brand, product or service while monitoring online conversations. However, analysis of social media streams is usually restricted to just basic sentiment analysis and count based metrics. This is akin to just scratching the surface and missing out on those high value insights that are waiting to be discovered. So what should a brand do to capture that low hanging fruit? <br>\n",
        "\n",
        "The datasets is from twitter. tweets have been pulled from Twitter and manual tagging has been done then. <br>\n",
        "\n",
        "The names and usernames have been given codes to avoid any privacy concerns. <br>\n",
        "\n",
        "Columns:  <br>\n",
        "1) Location <br>\n",
        "2) Tweet At <br>\n",
        "3) Original Tweet <br>\n",
        "4) Label <br>\n",
        "\n",
        "The dataset used for this project can be found at https://www.kaggle.com/datatattle/covid-19-nlp-text-classification?rvi=1"
      ]
    },
    {
      "cell_type": "markdown",
      "metadata": {
        "id": "zb04xRUZUKAv"
      },
      "source": [
        "## Importing the required library's"
      ]
    },
    {
      "cell_type": "code",
      "metadata": {
        "colab": {
          "base_uri": "https://localhost:8080/"
        },
        "id": "8YOSfhCAzl3u",
        "outputId": "b88ff85e-e942-4743-a68f-184fee9a73d5"
      },
      "source": [
        "import numpy as np # linear algebra\n",
        "import pandas as pd # data processing, CSV file I/O (e.g. pd.read_csv)\n",
        "\n",
        "# Input data files are available in the read-only \"../input/\" directory\n",
        "# For example, running this (by clicking run or pressing Shift+Enter) will list all files under the input directory\n",
        "\n",
        "import os\n",
        "for dirname, _, filenames in os.walk('/kaggle/input'):\n",
        "    for filename in filenames:\n",
        "        print(os.path.join(dirname, filename))\n",
        "        \n",
        "import nltk\n",
        "nltk.download(\"book\")"
      ],
      "execution_count": 2,
      "outputs": [
        {
          "output_type": "stream",
          "text": [
            "[nltk_data] Downloading collection 'book'\n",
            "[nltk_data]    | \n",
            "[nltk_data]    | Downloading package abc to /root/nltk_data...\n",
            "[nltk_data]    |   Unzipping corpora/abc.zip.\n",
            "[nltk_data]    | Downloading package brown to /root/nltk_data...\n",
            "[nltk_data]    |   Unzipping corpora/brown.zip.\n",
            "[nltk_data]    | Downloading package chat80 to /root/nltk_data...\n",
            "[nltk_data]    |   Unzipping corpora/chat80.zip.\n",
            "[nltk_data]    | Downloading package cmudict to /root/nltk_data...\n",
            "[nltk_data]    |   Unzipping corpora/cmudict.zip.\n",
            "[nltk_data]    | Downloading package conll2000 to /root/nltk_data...\n",
            "[nltk_data]    |   Unzipping corpora/conll2000.zip.\n",
            "[nltk_data]    | Downloading package conll2002 to /root/nltk_data...\n",
            "[nltk_data]    |   Unzipping corpora/conll2002.zip.\n",
            "[nltk_data]    | Downloading package dependency_treebank to\n",
            "[nltk_data]    |     /root/nltk_data...\n",
            "[nltk_data]    |   Unzipping corpora/dependency_treebank.zip.\n",
            "[nltk_data]    | Downloading package genesis to /root/nltk_data...\n",
            "[nltk_data]    |   Unzipping corpora/genesis.zip.\n",
            "[nltk_data]    | Downloading package gutenberg to /root/nltk_data...\n",
            "[nltk_data]    |   Unzipping corpora/gutenberg.zip.\n",
            "[nltk_data]    | Downloading package ieer to /root/nltk_data...\n",
            "[nltk_data]    |   Unzipping corpora/ieer.zip.\n",
            "[nltk_data]    | Downloading package inaugural to /root/nltk_data...\n",
            "[nltk_data]    |   Unzipping corpora/inaugural.zip.\n",
            "[nltk_data]    | Downloading package movie_reviews to\n",
            "[nltk_data]    |     /root/nltk_data...\n",
            "[nltk_data]    |   Unzipping corpora/movie_reviews.zip.\n",
            "[nltk_data]    | Downloading package nps_chat to /root/nltk_data...\n",
            "[nltk_data]    |   Unzipping corpora/nps_chat.zip.\n",
            "[nltk_data]    | Downloading package names to /root/nltk_data...\n",
            "[nltk_data]    |   Unzipping corpora/names.zip.\n",
            "[nltk_data]    | Downloading package ppattach to /root/nltk_data...\n",
            "[nltk_data]    |   Unzipping corpora/ppattach.zip.\n",
            "[nltk_data]    | Downloading package reuters to /root/nltk_data...\n",
            "[nltk_data]    | Downloading package senseval to /root/nltk_data...\n",
            "[nltk_data]    |   Unzipping corpora/senseval.zip.\n",
            "[nltk_data]    | Downloading package state_union to /root/nltk_data...\n",
            "[nltk_data]    |   Unzipping corpora/state_union.zip.\n",
            "[nltk_data]    | Downloading package stopwords to /root/nltk_data...\n",
            "[nltk_data]    |   Unzipping corpora/stopwords.zip.\n",
            "[nltk_data]    | Downloading package swadesh to /root/nltk_data...\n",
            "[nltk_data]    |   Unzipping corpora/swadesh.zip.\n",
            "[nltk_data]    | Downloading package timit to /root/nltk_data...\n",
            "[nltk_data]    |   Unzipping corpora/timit.zip.\n",
            "[nltk_data]    | Downloading package treebank to /root/nltk_data...\n",
            "[nltk_data]    |   Unzipping corpora/treebank.zip.\n",
            "[nltk_data]    | Downloading package toolbox to /root/nltk_data...\n",
            "[nltk_data]    |   Unzipping corpora/toolbox.zip.\n",
            "[nltk_data]    | Downloading package udhr to /root/nltk_data...\n",
            "[nltk_data]    |   Unzipping corpora/udhr.zip.\n",
            "[nltk_data]    | Downloading package udhr2 to /root/nltk_data...\n",
            "[nltk_data]    |   Unzipping corpora/udhr2.zip.\n",
            "[nltk_data]    | Downloading package unicode_samples to\n",
            "[nltk_data]    |     /root/nltk_data...\n",
            "[nltk_data]    |   Unzipping corpora/unicode_samples.zip.\n",
            "[nltk_data]    | Downloading package webtext to /root/nltk_data...\n",
            "[nltk_data]    |   Unzipping corpora/webtext.zip.\n",
            "[nltk_data]    | Downloading package wordnet to /root/nltk_data...\n",
            "[nltk_data]    |   Unzipping corpora/wordnet.zip.\n",
            "[nltk_data]    | Downloading package wordnet_ic to /root/nltk_data...\n",
            "[nltk_data]    |   Unzipping corpora/wordnet_ic.zip.\n",
            "[nltk_data]    | Downloading package words to /root/nltk_data...\n",
            "[nltk_data]    |   Unzipping corpora/words.zip.\n",
            "[nltk_data]    | Downloading package maxent_treebank_pos_tagger to\n",
            "[nltk_data]    |     /root/nltk_data...\n",
            "[nltk_data]    |   Unzipping taggers/maxent_treebank_pos_tagger.zip.\n",
            "[nltk_data]    | Downloading package maxent_ne_chunker to\n",
            "[nltk_data]    |     /root/nltk_data...\n",
            "[nltk_data]    |   Unzipping chunkers/maxent_ne_chunker.zip.\n",
            "[nltk_data]    | Downloading package universal_tagset to\n",
            "[nltk_data]    |     /root/nltk_data...\n",
            "[nltk_data]    |   Unzipping taggers/universal_tagset.zip.\n",
            "[nltk_data]    | Downloading package punkt to /root/nltk_data...\n",
            "[nltk_data]    |   Unzipping tokenizers/punkt.zip.\n",
            "[nltk_data]    | Downloading package book_grammars to\n",
            "[nltk_data]    |     /root/nltk_data...\n",
            "[nltk_data]    |   Unzipping grammars/book_grammars.zip.\n",
            "[nltk_data]    | Downloading package city_database to\n",
            "[nltk_data]    |     /root/nltk_data...\n",
            "[nltk_data]    |   Unzipping corpora/city_database.zip.\n",
            "[nltk_data]    | Downloading package tagsets to /root/nltk_data...\n",
            "[nltk_data]    |   Unzipping help/tagsets.zip.\n",
            "[nltk_data]    | Downloading package panlex_swadesh to\n",
            "[nltk_data]    |     /root/nltk_data...\n",
            "[nltk_data]    | Downloading package averaged_perceptron_tagger to\n",
            "[nltk_data]    |     /root/nltk_data...\n",
            "[nltk_data]    |   Unzipping taggers/averaged_perceptron_tagger.zip.\n",
            "[nltk_data]    | \n",
            "[nltk_data]  Done downloading collection book\n"
          ],
          "name": "stdout"
        },
        {
          "output_type": "execute_result",
          "data": {
            "text/plain": [
              "True"
            ]
          },
          "metadata": {
            "tags": []
          },
          "execution_count": 2
        }
      ]
    },
    {
      "cell_type": "code",
      "metadata": {
        "id": "bOZmgwaj9DkC"
      },
      "source": [
        "import tensorflow.keras.layers as L\n",
        "import tensorflow as tf\n",
        "from tensorflow.keras.models import Sequential\n",
        "from tensorflow.keras.layers import Dropout\n",
        "import nltk\n",
        "from sklearn.metrics import accuracy_score\n",
        "from tensorflow.keras.losses import SparseCategoricalCrossentropy\n",
        "from sklearn.metrics import confusion_matrix\n",
        "import seaborn as sns\n",
        "import numpy as np\n",
        "from string import punctuation\n",
        "from nltk.corpus import stopwords\n",
        "import re\n",
        "from tensorflow.keras.preprocessing.text import Tokenizer\n",
        "from tensorflow.keras.preprocessing.sequence import pad_sequences\n",
        "from sklearn.model_selection import train_test_split\n",
        "import matplotlib.pyplot as plt"
      ],
      "execution_count": 3,
      "outputs": []
    },
    {
      "cell_type": "code",
      "metadata": {
        "id": "av8vhAf29JxE"
      },
      "source": [
        "df = pd.read_csv(\"/kaggle/input/covid19_sentiment_analysis_nlp/Corona_NLP_train.csv\",encoding=\"latin-1\")"
      ],
      "execution_count": 5,
      "outputs": []
    },
    {
      "cell_type": "code",
      "metadata": {
        "id": "DO7sv3T49LuD"
      },
      "source": [
        "test_data = pd.read_csv(\"/kaggle/input/covid19_sentiment_analysis_nlp/Corona_NLP_test.csv\")"
      ],
      "execution_count": 6,
      "outputs": []
    },
    {
      "cell_type": "code",
      "metadata": {
        "colab": {
          "base_uri": "https://localhost:8080/",
          "height": 292
        },
        "id": "zZnTtLh49N_3",
        "outputId": "5d59344a-16f9-47f1-d3f0-5d3e9fb31d61"
      },
      "source": [
        "df.head()"
      ],
      "execution_count": 7,
      "outputs": [
        {
          "output_type": "execute_result",
          "data": {
            "text/html": [
              "<div>\n",
              "<style scoped>\n",
              "    .dataframe tbody tr th:only-of-type {\n",
              "        vertical-align: middle;\n",
              "    }\n",
              "\n",
              "    .dataframe tbody tr th {\n",
              "        vertical-align: top;\n",
              "    }\n",
              "\n",
              "    .dataframe thead th {\n",
              "        text-align: right;\n",
              "    }\n",
              "</style>\n",
              "<table border=\"1\" class=\"dataframe\">\n",
              "  <thead>\n",
              "    <tr style=\"text-align: right;\">\n",
              "      <th></th>\n",
              "      <th>UserName</th>\n",
              "      <th>ScreenName</th>\n",
              "      <th>Location</th>\n",
              "      <th>TweetAt</th>\n",
              "      <th>OriginalTweet</th>\n",
              "      <th>Sentiment</th>\n",
              "    </tr>\n",
              "  </thead>\n",
              "  <tbody>\n",
              "    <tr>\n",
              "      <th>0</th>\n",
              "      <td>3799</td>\n",
              "      <td>48751</td>\n",
              "      <td>London</td>\n",
              "      <td>16-03-2020</td>\n",
              "      <td>@MeNyrbie @Phil_Gahan @Chrisitv https://t.co/i...</td>\n",
              "      <td>Neutral</td>\n",
              "    </tr>\n",
              "    <tr>\n",
              "      <th>1</th>\n",
              "      <td>3800</td>\n",
              "      <td>48752</td>\n",
              "      <td>UK</td>\n",
              "      <td>16-03-2020</td>\n",
              "      <td>advice Talk to your neighbours family to excha...</td>\n",
              "      <td>Positive</td>\n",
              "    </tr>\n",
              "    <tr>\n",
              "      <th>2</th>\n",
              "      <td>3801</td>\n",
              "      <td>48753</td>\n",
              "      <td>Vagabonds</td>\n",
              "      <td>16-03-2020</td>\n",
              "      <td>Coronavirus Australia: Woolworths to give elde...</td>\n",
              "      <td>Positive</td>\n",
              "    </tr>\n",
              "    <tr>\n",
              "      <th>3</th>\n",
              "      <td>3802</td>\n",
              "      <td>48754</td>\n",
              "      <td>NaN</td>\n",
              "      <td>16-03-2020</td>\n",
              "      <td>My food stock is not the only one which is emp...</td>\n",
              "      <td>Positive</td>\n",
              "    </tr>\n",
              "    <tr>\n",
              "      <th>4</th>\n",
              "      <td>3803</td>\n",
              "      <td>48755</td>\n",
              "      <td>NaN</td>\n",
              "      <td>16-03-2020</td>\n",
              "      <td>Me, ready to go at supermarket during the #COV...</td>\n",
              "      <td>Extremely Negative</td>\n",
              "    </tr>\n",
              "  </tbody>\n",
              "</table>\n",
              "</div>"
            ],
            "text/plain": [
              "   UserName  ...           Sentiment\n",
              "0      3799  ...             Neutral\n",
              "1      3800  ...            Positive\n",
              "2      3801  ...            Positive\n",
              "3      3802  ...            Positive\n",
              "4      3803  ...  Extremely Negative\n",
              "\n",
              "[5 rows x 6 columns]"
            ]
          },
          "metadata": {
            "tags": []
          },
          "execution_count": 7
        }
      ]
    },
    {
      "cell_type": "code",
      "metadata": {
        "colab": {
          "base_uri": "https://localhost:8080/"
        },
        "id": "ehDG6OaUdQVC",
        "outputId": "afdf1738-aaa7-4851-cdae-b15e0f61969b"
      },
      "source": [
        "df.info()"
      ],
      "execution_count": 8,
      "outputs": [
        {
          "output_type": "stream",
          "text": [
            "<class 'pandas.core.frame.DataFrame'>\n",
            "RangeIndex: 41157 entries, 0 to 41156\n",
            "Data columns (total 6 columns):\n",
            " #   Column         Non-Null Count  Dtype \n",
            "---  ------         --------------  ----- \n",
            " 0   UserName       41157 non-null  int64 \n",
            " 1   ScreenName     41157 non-null  int64 \n",
            " 2   Location       32567 non-null  object\n",
            " 3   TweetAt        41157 non-null  object\n",
            " 4   OriginalTweet  41157 non-null  object\n",
            " 5   Sentiment      41157 non-null  object\n",
            "dtypes: int64(2), object(4)\n",
            "memory usage: 1.9+ MB\n"
          ],
          "name": "stdout"
        }
      ]
    },
    {
      "cell_type": "code",
      "metadata": {
        "colab": {
          "base_uri": "https://localhost:8080/"
        },
        "id": "H1XVxt3WdV_U",
        "outputId": "41248fdc-392a-4461-aadb-9a8cf02b6393"
      },
      "source": [
        "df.isnull().sum()"
      ],
      "execution_count": 14,
      "outputs": [
        {
          "output_type": "execute_result",
          "data": {
            "text/plain": [
              "UserName            0\n",
              "ScreenName          0\n",
              "Location         8590\n",
              "TweetAt             0\n",
              "OriginalTweet       0\n",
              "Sentiment           0\n",
              "dtype: int64"
            ]
          },
          "metadata": {
            "tags": []
          },
          "execution_count": 14
        }
      ]
    },
    {
      "cell_type": "code",
      "metadata": {
        "colab": {
          "base_uri": "https://localhost:8080/"
        },
        "id": "nDJly84pdaZ-",
        "outputId": "c3c1ad97-0375-4a21-88c0-abd542f84296"
      },
      "source": [
        "df['Location'].value_counts()[:60]"
      ],
      "execution_count": 13,
      "outputs": [
        {
          "output_type": "execute_result",
          "data": {
            "text/plain": [
              "London            1247\n",
              "New York           709\n",
              "United States      530\n",
              "Washington         504\n",
              "Los Angeles        402\n",
              "Toronto            346\n",
              "United Kingdom     342\n",
              "India              276\n",
              "Chicago            262\n",
              "England            255\n",
              "UK                 246\n",
              "USA                231\n",
              "Australia          230\n",
              "California         211\n",
              "San Francisco      206\n",
              "Sydney             202\n",
              "New Delhi          201\n",
              "Melbourne          199\n",
              "Canada             198\n",
              "Boston             197\n",
              "Mumbai             197\n",
              "Atlanta            165\n",
              "Global             159\n",
              "Houston            156\n",
              "Texas              145\n",
              "Lagos              136\n",
              "Austin             130\n",
              "Florida            121\n",
              "Seattle            120\n",
              "Nairobi            117\n",
              "Dallas             115\n",
              "Philadelphia       114\n",
              "Manchester         111\n",
              "Vancouver          106\n",
              "Scotland           104\n",
              "New Jersey         103\n",
              "Worldwide          101\n",
              "San Diego           99\n",
              "New York City       95\n",
              "Dubai               91\n",
              "Singapore           88\n",
              "South Africa        87\n",
              "Portland            86\n",
              "Denver              86\n",
              "Earth               84\n",
              "Nigeria             83\n",
              "Las Vegas           79\n",
              "Johannesburg        78\n",
              "Ottawa              76\n",
              "Michigan            76\n",
              "Brooklyn            75\n",
              "Paris               74\n",
              "New Zealand         74\n",
              "Ontario             72\n",
              "Birmingham          72\n",
              "Miami               72\n",
              "Calgary             70\n",
              "NYC                 69\n",
              "Victoria            67\n",
              "Phoenix             65\n",
              "Name: Location, dtype: int64"
            ]
          },
          "metadata": {
            "tags": []
          },
          "execution_count": 13
        }
      ]
    },
    {
      "cell_type": "code",
      "metadata": {
        "id": "0Yd6NHppdfRc"
      },
      "source": [
        "#splitting location into word pairs\n",
        "df['Location'] = df['Location'].str.split(\",\").str[0]\n",
        "test_data['Location'] = test_data['Location'].str.split(\",\").str[0]"
      ],
      "execution_count": 12,
      "outputs": []
    },
    {
      "cell_type": "code",
      "metadata": {
        "colab": {
          "base_uri": "https://localhost:8080/"
        },
        "id": "AQ8nW4eSd0ft",
        "outputId": "3821da54-2c6f-4baf-802e-e4cc7290f8ab"
      },
      "source": [
        "df['Location'].value_counts()[:60]"
      ],
      "execution_count": 11,
      "outputs": [
        {
          "output_type": "execute_result",
          "data": {
            "text/plain": [
              "London                     540\n",
              "United States              528\n",
              "London, England            520\n",
              "New York, NY               395\n",
              "Washington, DC             373\n",
              "United Kingdom             337\n",
              "Los Angeles, CA            281\n",
              "India                      268\n",
              "UK                         232\n",
              "Australia                  225\n",
              "USA                        223\n",
              "England, United Kingdom    191\n",
              "Canada                     191\n",
              "Toronto, Ontario           160\n",
              "Global                     159\n",
              "Chicago, IL                155\n",
              "California, USA            153\n",
              "San Francisco, CA          152\n",
              "Boston, MA                 150\n",
              "New York, USA              140\n",
              "New Delhi, India           138\n",
              "Atlanta, GA                126\n",
              "New York                   126\n",
              "Mumbai, India              109\n",
              "Worldwide                  101\n",
              "Lagos, Nigeria              99\n",
              "Texas, USA                  98\n",
              "Austin, TX                  98\n",
              "Houston, TX                 98\n",
              "London, UK                  96\n",
              "Toronto                     91\n",
              "Los Angeles                 89\n",
              "Nairobi, Kenya              88\n",
              "New York City               87\n",
              "Singapore                   87\n",
              "Florida, USA                84\n",
              "Philadelphia, PA            84\n",
              "South Africa                83\n",
              "Nigeria                     83\n",
              "Washington, D.C.            80\n",
              "Sydney, New South Wales     78\n",
              "Seattle, WA                 78\n",
              "Mumbai                      76\n",
              "Earth                       75\n",
              "New Zealand                 74\n",
              "San Diego, CA               71\n",
              "Melbourne, Victoria         70\n",
              "Dallas, TX                  68\n",
              "Sydney, Australia           66\n",
              "Las Vegas, NV               64\n",
              "Ireland                     61\n",
              "Chicago                     60\n",
              "Denver, CO                  60\n",
              "New Jersey, USA             58\n",
              "NYC                         58\n",
              "Brooklyn, NY                57\n",
              "Melbourne, Australia        56\n",
              "Ontario, Canada             55\n",
              "England                     55\n",
              "California                  54\n",
              "Name: Location, dtype: int64"
            ]
          },
          "metadata": {
            "tags": []
          },
          "execution_count": 11
        }
      ]
    },
    {
      "cell_type": "code",
      "metadata": {
        "colab": {
          "base_uri": "https://localhost:8080/"
        },
        "id": "p8ow6LV8eFpS",
        "outputId": "058d8eb0-b5e1-4cc3-aa23-a26e15ee53b3"
      },
      "source": [
        "df['TweetAt'].value_counts()"
      ],
      "execution_count": 10,
      "outputs": [
        {
          "output_type": "execute_result",
          "data": {
            "text/plain": [
              "20-03-2020    3448\n",
              "19-03-2020    3215\n",
              "25-03-2020    2979\n",
              "18-03-2020    2742\n",
              "21-03-2020    2653\n",
              "22-03-2020    2114\n",
              "23-03-2020    2062\n",
              "17-03-2020    1977\n",
              "08-04-2020    1881\n",
              "07-04-2020    1843\n",
              "06-04-2020    1742\n",
              "24-03-2020    1480\n",
              "09-04-2020    1471\n",
              "13-04-2020    1428\n",
              "26-03-2020    1277\n",
              "05-04-2020    1131\n",
              "10-04-2020    1005\n",
              "02-04-2020     954\n",
              "11-04-2020     909\n",
              "03-04-2020     810\n",
              "12-04-2020     803\n",
              "04-04-2020     767\n",
              "16-03-2020     656\n",
              "01-04-2020     630\n",
              "27-03-2020     345\n",
              "31-03-2020     316\n",
              "14-04-2020     284\n",
              "29-03-2020     125\n",
              "30-03-2020      87\n",
              "28-03-2020      23\n",
              "Name: TweetAt, dtype: int64"
            ]
          },
          "metadata": {
            "tags": []
          },
          "execution_count": 10
        }
      ]
    },
    {
      "cell_type": "code",
      "metadata": {
        "colab": {
          "base_uri": "https://localhost:8080/"
        },
        "id": "VSsBIdUH9Qre",
        "outputId": "eefebc54-3c01-468f-abc1-c65ff3339584"
      },
      "source": [
        "df['Sentiment'].value_counts()"
      ],
      "execution_count": 9,
      "outputs": [
        {
          "output_type": "execute_result",
          "data": {
            "text/plain": [
              "Positive              11422\n",
              "Negative               9917\n",
              "Neutral                7713\n",
              "Extremely Positive     6624\n",
              "Extremely Negative     5481\n",
              "Name: Sentiment, dtype: int64"
            ]
          },
          "metadata": {
            "tags": []
          },
          "execution_count": 9
        }
      ]
    },
    {
      "cell_type": "markdown",
      "metadata": {
        "id": "o_gaqduvef2Z"
      },
      "source": [
        "Positive > Negative > Neutral and the categories will be remapped to fully represent this position."
      ]
    },
    {
      "cell_type": "code",
      "metadata": {
        "id": "25ZjmmUY9SmP"
      },
      "source": [
        "def encode_sentiment(sentiment):\n",
        "  if sentiment==\"Neutral\":\n",
        "    return 0\n",
        "  elif sentiment==\"Positive\":\n",
        "    return 2\n",
        "  elif sentiment==\"Negative\":\n",
        "    return 1\n",
        "  elif sentiment==\"Extremely Positive\":\n",
        "    return 2\n",
        "  elif sentiment==\"Extremely Negative\":\n",
        "    return 1"
      ],
      "execution_count": 18,
      "outputs": []
    },
    {
      "cell_type": "markdown",
      "metadata": {
        "id": "uJiO9BpUeouQ"
      },
      "source": [
        "## Visual Representation of the Training Set"
      ]
    },
    {
      "cell_type": "code",
      "metadata": {
        "colab": {
          "base_uri": "https://localhost:8080/",
          "height": 645
        },
        "id": "Q_rQxGebe443",
        "outputId": "774bb3dc-2f42-4e46-bdbd-bd0beab2ee05"
      },
      "source": [
        "plt.figure(figsize=(10,10))\n",
        "sns.countplot(y='Location',data=df,order=df.Location.value_counts().iloc[\n",
        "    0:19].index).set_title(\"Twitted locations\")"
      ],
      "execution_count": 17,
      "outputs": [
        {
          "output_type": "execute_result",
          "data": {
            "text/plain": [
              "Text(0.5, 1.0, 'Twitted locations')"
            ]
          },
          "metadata": {
            "tags": []
          },
          "execution_count": 17
        },
        {
          "output_type": "display_data",
          "data": {
            "image/png": "[encoded data removed]",
            "text/plain": [
              "<Figure size 720x720 with 1 Axes>"
            ]
          },
          "metadata": {
            "tags": []
          }
        }
      ]
    },
    {
      "cell_type": "code",
      "metadata": {
        "colab": {
          "base_uri": "https://localhost:8080/",
          "height": 653
        },
        "id": "_9MZ9Y_afSFd",
        "outputId": "da8a6c9c-c52f-440f-8c81-58b8ac0b718c"
      },
      "source": [
        "labels = ['Positve', 'Negative', 'Neutral', 'Extremely Positive', 'Extremely Negative']\n",
        "colors = ['#ff9999','#66b3ff','#99ff99','#ffcc99', '#ff5645']\n",
        "explode = (0.05,0.05,0.05,0.05,0.05) \n",
        "plt.pie(df.Sentiment.value_counts(), colors = colors, labels=labels,\n",
        "        autopct='%1.1f%%', startangle=90, pctdistance=0.85, explode = explode)\n",
        "centreCircle = plt.Circle((0,0),0.70,fc='white')\n",
        "fig = plt.gcf()\n",
        "fig.gca().add_artist(centreCircle)\n",
        "plt.tight_layout()\n",
        "plt.show()"
      ],
      "execution_count": 16,
      "outputs": [
        {
          "output_type": "display_data",
          "data": {
            "image/png": "[encoded data removed]",
            "text/plain": [
              "<Figure size 1080x648 with 1 Axes>"
            ]
          },
          "metadata": {
            "tags": []
          }
        }
      ]
    },
    {
      "cell_type": "code",
      "metadata": {
        "colab": {
          "base_uri": "https://localhost:8080/",
          "height": 422
        },
        "id": "fyvVZf_gIXiq",
        "outputId": "1bcde9c0-c42f-47e7-c32a-f4e63e967c14"
      },
      "source": [
        "plotDf = df.iloc[:,[2,5]] #[:,[2,5]] is the location and sentiment columns\n",
        "plotDf"
      ],
      "execution_count": 22,
      "outputs": [
        {
          "output_type": "execute_result",
          "data": {
            "text/html": [
              "<div>\n",
              "<style scoped>\n",
              "    .dataframe tbody tr th:only-of-type {\n",
              "        vertical-align: middle;\n",
              "    }\n",
              "\n",
              "    .dataframe tbody tr th {\n",
              "        vertical-align: top;\n",
              "    }\n",
              "\n",
              "    .dataframe thead th {\n",
              "        text-align: right;\n",
              "    }\n",
              "</style>\n",
              "<table border=\"1\" class=\"dataframe\">\n",
              "  <thead>\n",
              "    <tr style=\"text-align: right;\">\n",
              "      <th></th>\n",
              "      <th>Location</th>\n",
              "      <th>Sentiment</th>\n",
              "    </tr>\n",
              "  </thead>\n",
              "  <tbody>\n",
              "    <tr>\n",
              "      <th>0</th>\n",
              "      <td>London</td>\n",
              "      <td>Neutral</td>\n",
              "    </tr>\n",
              "    <tr>\n",
              "      <th>1</th>\n",
              "      <td>UK</td>\n",
              "      <td>Positive</td>\n",
              "    </tr>\n",
              "    <tr>\n",
              "      <th>2</th>\n",
              "      <td>Vagabonds</td>\n",
              "      <td>Positive</td>\n",
              "    </tr>\n",
              "    <tr>\n",
              "      <th>3</th>\n",
              "      <td>NaN</td>\n",
              "      <td>Positive</td>\n",
              "    </tr>\n",
              "    <tr>\n",
              "      <th>4</th>\n",
              "      <td>NaN</td>\n",
              "      <td>Extremely Negative</td>\n",
              "    </tr>\n",
              "    <tr>\n",
              "      <th>...</th>\n",
              "      <td>...</td>\n",
              "      <td>...</td>\n",
              "    </tr>\n",
              "    <tr>\n",
              "      <th>41152</th>\n",
              "      <td>Wellington City</td>\n",
              "      <td>Neutral</td>\n",
              "    </tr>\n",
              "    <tr>\n",
              "      <th>41153</th>\n",
              "      <td>NaN</td>\n",
              "      <td>Extremely Negative</td>\n",
              "    </tr>\n",
              "    <tr>\n",
              "      <th>41154</th>\n",
              "      <td>NaN</td>\n",
              "      <td>Positive</td>\n",
              "    </tr>\n",
              "    <tr>\n",
              "      <th>41155</th>\n",
              "      <td>NaN</td>\n",
              "      <td>Neutral</td>\n",
              "    </tr>\n",
              "    <tr>\n",
              "      <th>41156</th>\n",
              "      <td>i love you so much || he/him</td>\n",
              "      <td>Negative</td>\n",
              "    </tr>\n",
              "  </tbody>\n",
              "</table>\n",
              "<p>41157 rows × 2 columns</p>\n",
              "</div>"
            ],
            "text/plain": [
              "                           Location           Sentiment\n",
              "0                            London             Neutral\n",
              "1                                UK            Positive\n",
              "2                         Vagabonds            Positive\n",
              "3                               NaN            Positive\n",
              "4                               NaN  Extremely Negative\n",
              "...                             ...                 ...\n",
              "41152               Wellington City             Neutral\n",
              "41153                           NaN  Extremely Negative\n",
              "41154                           NaN            Positive\n",
              "41155                           NaN             Neutral\n",
              "41156  i love you so much || he/him            Negative\n",
              "\n",
              "[41157 rows x 2 columns]"
            ]
          },
          "metadata": {
            "tags": []
          },
          "execution_count": 22
        }
      ]
    },
    {
      "cell_type": "code",
      "metadata": {
        "colab": {
          "base_uri": "https://localhost:8080/",
          "height": 502
        },
        "id": "9kuV7klxEXFD",
        "outputId": "637a66a9-ce81-4353-90a3-112c7efebabf"
      },
      "source": [
        "sns.set(rc={'figure.figsize':(15,9)})\n",
        "gg = df.Location.value_counts()[:5].index\n",
        "plt.title('Sentiment Categories of the First 5 Top Locations', fontsize=16, fontweight='bold')\n",
        "sns.countplot(x = 'Location', hue = 'Sentiment', data = plotDf, order = gg)"
      ],
      "execution_count": 23,
      "outputs": [
        {
          "output_type": "execute_result",
          "data": {
            "text/plain": [
              "<matplotlib.axes._subplots.AxesSubplot at 0x7fdf7f21b610>"
            ]
          },
          "metadata": {
            "tags": []
          },
          "execution_count": 23
        },
        {
          "output_type": "display_data",
          "data": {
            "image/png": "[encoded data removed]",
            "text/plain": [
              "<Figure size 1080x648 with 1 Axes>"
            ]
          },
          "metadata": {
            "tags": []
          }
        }
      ]
    },
    {
      "cell_type": "markdown",
      "metadata": {
        "id": "9wx2H1mRF_sW"
      },
      "source": [
        "## Creating a new column called 'new_sentiment'\n",
        "\n",
        "Creating a new column called 'new_sentiment' and applying the 'encode_sentiment' function to the 'sentiment' column which results in encoding the values to an integer"
      ]
    },
    {
      "cell_type": "code",
      "metadata": {
        "id": "QQUY2SZ49USD"
      },
      "source": [
        "df['new_sentiment'] = df['Sentiment'].apply(encode_sentiment)"
      ],
      "execution_count": 24,
      "outputs": []
    },
    {
      "cell_type": "code",
      "metadata": {
        "colab": {
          "base_uri": "https://localhost:8080/"
        },
        "id": "a_nRzbO49Xfm",
        "outputId": "ebc91c49-7247-4f2b-a5c2-d114efa67cb6"
      },
      "source": [
        "df['new_sentiment'].value_counts()"
      ],
      "execution_count": 25,
      "outputs": [
        {
          "output_type": "execute_result",
          "data": {
            "text/plain": [
              "2    18046\n",
              "1    15398\n",
              "0     7713\n",
              "Name: new_sentiment, dtype: int64"
            ]
          },
          "metadata": {
            "tags": []
          },
          "execution_count": 25
        }
      ]
    },
    {
      "cell_type": "code",
      "metadata": {
        "id": "wubV34069XRi"
      },
      "source": [
        "train_df = df[['OriginalTweet','new_sentiment']]"
      ],
      "execution_count": 26,
      "outputs": []
    },
    {
      "cell_type": "code",
      "metadata": {
        "colab": {
          "base_uri": "https://localhost:8080/",
          "height": 205
        },
        "id": "td81OoBj9XOl",
        "outputId": "2c3339eb-66ff-4c02-89d9-78686b7676b1"
      },
      "source": [
        "train_df.head()"
      ],
      "execution_count": 27,
      "outputs": [
        {
          "output_type": "execute_result",
          "data": {
            "text/html": [
              "<div>\n",
              "<style scoped>\n",
              "    .dataframe tbody tr th:only-of-type {\n",
              "        vertical-align: middle;\n",
              "    }\n",
              "\n",
              "    .dataframe tbody tr th {\n",
              "        vertical-align: top;\n",
              "    }\n",
              "\n",
              "    .dataframe thead th {\n",
              "        text-align: right;\n",
              "    }\n",
              "</style>\n",
              "<table border=\"1\" class=\"dataframe\">\n",
              "  <thead>\n",
              "    <tr style=\"text-align: right;\">\n",
              "      <th></th>\n",
              "      <th>OriginalTweet</th>\n",
              "      <th>new_sentiment</th>\n",
              "    </tr>\n",
              "  </thead>\n",
              "  <tbody>\n",
              "    <tr>\n",
              "      <th>0</th>\n",
              "      <td>@MeNyrbie @Phil_Gahan @Chrisitv https://t.co/i...</td>\n",
              "      <td>0</td>\n",
              "    </tr>\n",
              "    <tr>\n",
              "      <th>1</th>\n",
              "      <td>advice Talk to your neighbours family to excha...</td>\n",
              "      <td>2</td>\n",
              "    </tr>\n",
              "    <tr>\n",
              "      <th>2</th>\n",
              "      <td>Coronavirus Australia: Woolworths to give elde...</td>\n",
              "      <td>2</td>\n",
              "    </tr>\n",
              "    <tr>\n",
              "      <th>3</th>\n",
              "      <td>My food stock is not the only one which is emp...</td>\n",
              "      <td>2</td>\n",
              "    </tr>\n",
              "    <tr>\n",
              "      <th>4</th>\n",
              "      <td>Me, ready to go at supermarket during the #COV...</td>\n",
              "      <td>1</td>\n",
              "    </tr>\n",
              "  </tbody>\n",
              "</table>\n",
              "</div>"
            ],
            "text/plain": [
              "                                       OriginalTweet  new_sentiment\n",
              "0  @MeNyrbie @Phil_Gahan @Chrisitv https://t.co/i...              0\n",
              "1  advice Talk to your neighbours family to excha...              2\n",
              "2  Coronavirus Australia: Woolworths to give elde...              2\n",
              "3  My food stock is not the only one which is emp...              2\n",
              "4  Me, ready to go at supermarket during the #COV...              1"
            ]
          },
          "metadata": {
            "tags": []
          },
          "execution_count": 27
        }
      ]
    },
    {
      "cell_type": "code",
      "metadata": {
        "id": "iosCgWHh9XLv"
      },
      "source": [
        "train_df = train_df.sample(frac=1)"
      ],
      "execution_count": 28,
      "outputs": []
    },
    {
      "cell_type": "code",
      "metadata": {
        "id": "ADQnqb8C9XIu"
      },
      "source": [
        "sentiment = train_df['new_sentiment'].values"
      ],
      "execution_count": 29,
      "outputs": []
    },
    {
      "cell_type": "markdown",
      "metadata": {
        "id": "brZWYmYPFGBa"
      },
      "source": [
        "## Data Preprocessing\n",
        "\n",
        "\n",
        "*   Convert the text to string\n",
        "*   Lower the string\n",
        "*   Create a Regular Expression to remove any URL's\n",
        "*   Removing punctuation\n",
        "*   Removing any special characters\n",
        "*   Remove stopwords\n",
        "\n"
      ]
    },
    {
      "cell_type": "code",
      "metadata": {
        "id": "4kVskqc39XEp"
      },
      "source": [
        "def process_text(text):\n",
        "  text = str(text) #Convert string to str\n",
        "  #Lowers the string\n",
        "  text = text.lower()\n",
        "  #Removes the full url\n",
        "  url_remove = re.compile(r'(http|ftp|https)://([\\w_-]+(?:(?:\\.[\\w_-]+)+))([\\w.,@?^=%&:/~+#-]*[\\w@?^=%&/~+#-])?')\n",
        "  text = re.sub(url_remove,' ',text)\n",
        "  #Removes the punctuation\n",
        "  text = ''.join([string for string in text if string not in punctuation and not string.isdigit()])\n",
        "  #Removes any more special characters\n",
        "  special_character = re.compile(r'[^a-zA-Z]')\n",
        "  text = re.sub(special_character,' ', text)\n",
        "  text = text.strip() #Strip white spaces\n",
        "  text = text.split(' ')\n",
        "  text = ' '.join([string for string in text if string not in stopwords.words('english')])#Removing all stop words\n",
        "  return text"
      ],
      "execution_count": 30,
      "outputs": []
    },
    {
      "cell_type": "code",
      "metadata": {
        "id": "T215dKGJ9W5m"
      },
      "source": [
        "train_df['processed_tweet'] = train_df['OriginalTweet'].apply(process_text)"
      ],
      "execution_count": 31,
      "outputs": []
    },
    {
      "cell_type": "code",
      "metadata": {
        "colab": {
          "base_uri": "https://localhost:8080/",
          "height": 205
        },
        "id": "cqXwQpYm9WtX",
        "outputId": "64ee1281-e21c-46d3-df0e-89632c5ca2e1"
      },
      "source": [
        "train_df.head()"
      ],
      "execution_count": 32,
      "outputs": [
        {
          "output_type": "execute_result",
          "data": {
            "text/html": [
              "<div>\n",
              "<style scoped>\n",
              "    .dataframe tbody tr th:only-of-type {\n",
              "        vertical-align: middle;\n",
              "    }\n",
              "\n",
              "    .dataframe tbody tr th {\n",
              "        vertical-align: top;\n",
              "    }\n",
              "\n",
              "    .dataframe thead th {\n",
              "        text-align: right;\n",
              "    }\n",
              "</style>\n",
              "<table border=\"1\" class=\"dataframe\">\n",
              "  <thead>\n",
              "    <tr style=\"text-align: right;\">\n",
              "      <th></th>\n",
              "      <th>OriginalTweet</th>\n",
              "      <th>new_sentiment</th>\n",
              "      <th>processed_tweet</th>\n",
              "    </tr>\n",
              "  </thead>\n",
              "  <tbody>\n",
              "    <tr>\n",
              "      <th>34170</th>\n",
              "      <td>With recent policy changes it s possible that ...</td>\n",
              "      <td>1</td>\n",
              "      <td>recent policy changes possible california coul...</td>\n",
              "    </tr>\n",
              "    <tr>\n",
              "      <th>723</th>\n",
              "      <td>i think........ this #PerintahKawalanPergeraka...</td>\n",
              "      <td>1</td>\n",
              "      <td>think perintahkawalanpergerakan akan cause cas...</td>\n",
              "    </tr>\n",
              "    <tr>\n",
              "      <th>25028</th>\n",
              "      <td>The supermarket sweep has become something of ...</td>\n",
              "      <td>2</td>\n",
              "      <td>supermarket sweep become something adrenalin s...</td>\n",
              "    </tr>\n",
              "    <tr>\n",
              "      <th>5099</th>\n",
              "      <td>@chiragm0808 Agar main delhi main kisi se stat...</td>\n",
              "      <td>0</td>\n",
              "      <td>chiragm agar main delhi main kisi se station m...</td>\n",
              "    </tr>\n",
              "    <tr>\n",
              "      <th>8796</th>\n",
              "      <td>@TheLastLeg #IsItOk that this how I imagine it...</td>\n",
              "      <td>2</td>\n",
              "      <td>thelastleg isitok imagine would watching end w...</td>\n",
              "    </tr>\n",
              "  </tbody>\n",
              "</table>\n",
              "</div>"
            ],
            "text/plain": [
              "                                           OriginalTweet  ...                                    processed_tweet\n",
              "34170  With recent policy changes it s possible that ...  ...  recent policy changes possible california coul...\n",
              "723    i think........ this #PerintahKawalanPergeraka...  ...  think perintahkawalanpergerakan akan cause cas...\n",
              "25028  The supermarket sweep has become something of ...  ...  supermarket sweep become something adrenalin s...\n",
              "5099   @chiragm0808 Agar main delhi main kisi se stat...  ...  chiragm agar main delhi main kisi se station m...\n",
              "8796   @TheLastLeg #IsItOk that this how I imagine it...  ...  thelastleg isitok imagine would watching end w...\n",
              "\n",
              "[5 rows x 3 columns]"
            ]
          },
          "metadata": {
            "tags": []
          },
          "execution_count": 32
        }
      ]
    },
    {
      "cell_type": "markdown",
      "metadata": {
        "id": "Ch2rIaLhWqC0"
      },
      "source": [
        "## Tokenizing the text"
      ]
    },
    {
      "cell_type": "code",
      "metadata": {
        "id": "R5sFEo259jPU"
      },
      "source": [
        "tokenizer = Tokenizer()"
      ],
      "execution_count": 33,
      "outputs": []
    },
    {
      "cell_type": "code",
      "metadata": {
        "id": "9maa16yp9jMI"
      },
      "source": [
        "tokenizer.fit_on_texts(train_df['processed_tweet'].values)"
      ],
      "execution_count": 34,
      "outputs": []
    },
    {
      "cell_type": "code",
      "metadata": {
        "id": "-oWyC2Tb9jJC"
      },
      "source": [
        "train =  tokenizer.texts_to_sequences(train_df['processed_tweet'].values)"
      ],
      "execution_count": 35,
      "outputs": []
    },
    {
      "cell_type": "code",
      "metadata": {
        "id": "_ZQxN3sJ9jFK"
      },
      "source": [
        "train = pad_sequences(train,padding='post')"
      ],
      "execution_count": 36,
      "outputs": []
    },
    {
      "cell_type": "code",
      "metadata": {
        "id": "QMTLHo2b9jB6"
      },
      "source": [
        "x_train , x_test , y_train , y_test = train_test_split(train,sentiment,test_size=0.2,random_state=42)"
      ],
      "execution_count": 37,
      "outputs": []
    },
    {
      "cell_type": "markdown",
      "metadata": {
        "id": "6PL6DGgsUYr1"
      },
      "source": [
        "## Define Callback class\n",
        "\n",
        "Model training will be stopped if its accuracy or loss is good enough"
      ]
    },
    {
      "cell_type": "code",
      "metadata": {
        "id": "Jpnd3WnmOnNg"
      },
      "source": [
        "class myCallback(tf.keras.callbacks.Callback):\n",
        "  def on_epoch_end(self, epoch, logs={}):\n",
        "    if(logs.get('accuracy')>=0.97):\n",
        "      print(\"--> Callback: Reached 97% accuracy. That's perfect, Cheers! <--\")\n",
        "      self.model.stop_training = True\n",
        "\n",
        "callbacks = myCallback()"
      ],
      "execution_count": 78,
      "outputs": []
    },
    {
      "cell_type": "markdown",
      "metadata": {
        "id": "hwGB0dj7UgWx"
      },
      "source": [
        "## Defining the Model"
      ]
    },
    {
      "cell_type": "code",
      "metadata": {
        "id": "fNCwHu3e9i-J"
      },
      "source": [
        "embedding_vectors = 30\n",
        "VOCAB_SIZE = len(tokenizer.word_index)+1"
      ],
      "execution_count": 79,
      "outputs": []
    },
    {
      "cell_type": "code",
      "metadata": {
        "id": "9zz0bm9g9i6w"
      },
      "source": [
        "model = tf.keras.Sequential([\n",
        "    L.Embedding(VOCAB_SIZE,embedding_vectors, input_length=x_train.shape[1]),\n",
        "    L.Bidirectional(L.LSTM(256,return_sequences=True)),\n",
        "    L.GlobalMaxPool1D(),\n",
        "    L.Dropout(0.4),\n",
        "    L.Dense(256, activation=\"relu\"),\n",
        "    L.Dropout(0.4),\n",
        "    L.Dense(3)\n",
        "])"
      ],
      "execution_count": 80,
      "outputs": []
    },
    {
      "cell_type": "markdown",
      "metadata": {
        "id": "exlCl0uxUtHM"
      },
      "source": [
        "## Compiling the model with its optimizer, loss function and metric"
      ]
    },
    {
      "cell_type": "code",
      "metadata": {
        "id": "qIiLd6OV9itZ"
      },
      "source": [
        "model.compile(loss=SparseCategoricalCrossentropy(from_logits=True),\n",
        "              optimizer='adam',metrics=['accuracy']\n",
        "             )"
      ],
      "execution_count": 81,
      "outputs": []
    },
    {
      "cell_type": "code",
      "metadata": {
        "colab": {
          "base_uri": "https://localhost:8080/"
        },
        "id": "Pg1xbu6Q914v",
        "outputId": "caf0d008-8b3a-41fc-b789-c8a5340056e4"
      },
      "source": [
        "model.summary()"
      ],
      "execution_count": 82,
      "outputs": [
        {
          "output_type": "stream",
          "text": [
            "Model: \"sequential_2\"\n",
            "_________________________________________________________________\n",
            "Layer (type)                 Output Shape              Param #   \n",
            "=================================================================\n",
            "embedding_2 (Embedding)      (None, 46, 30)            1709340   \n",
            "_________________________________________________________________\n",
            "bidirectional_2 (Bidirection (None, 46, 512)           587776    \n",
            "_________________________________________________________________\n",
            "global_max_pooling1d_2 (Glob (None, 512)               0         \n",
            "_________________________________________________________________\n",
            "dropout_4 (Dropout)          (None, 512)               0         \n",
            "_________________________________________________________________\n",
            "dense_4 (Dense)              (None, 256)               131328    \n",
            "_________________________________________________________________\n",
            "dropout_5 (Dropout)          (None, 256)               0         \n",
            "_________________________________________________________________\n",
            "dense_5 (Dense)              (None, 3)                 771       \n",
            "=================================================================\n",
            "Total params: 2,429,215\n",
            "Trainable params: 2,429,215\n",
            "Non-trainable params: 0\n",
            "_________________________________________________________________\n"
          ],
          "name": "stdout"
        }
      ]
    },
    {
      "cell_type": "markdown",
      "metadata": {
        "id": "DqYqrBt6VVb-"
      },
      "source": [
        "## Run model with callback"
      ]
    },
    {
      "cell_type": "code",
      "metadata": {
        "colab": {
          "base_uri": "https://localhost:8080/"
        },
        "id": "TmxKWSeG91vO",
        "outputId": "4c29e44d-9270-402e-e939-d8293986450b"
      },
      "source": [
        "history = model.fit(x_train,y_train,epochs=10, callbacks=[callbacks],\n",
        "          validation_data=(x_test,y_test))"
      ],
      "execution_count": 83,
      "outputs": [
        {
          "output_type": "stream",
          "text": [
            "Epoch 1/10\n",
            "1029/1029 [==============================] - 337s 325ms/step - loss: 0.6689 - accuracy: 0.7157 - val_loss: 0.4641 - val_accuracy: 0.8460\n",
            "Epoch 2/10\n",
            "1029/1029 [==============================] - 341s 332ms/step - loss: 0.3532 - accuracy: 0.8814 - val_loss: 0.4313 - val_accuracy: 0.8499\n",
            "Epoch 3/10\n",
            "1029/1029 [==============================] - 332s 322ms/step - loss: 0.2203 - accuracy: 0.9285 - val_loss: 0.4960 - val_accuracy: 0.8401\n",
            "Epoch 4/10\n",
            "1029/1029 [==============================] - 324s 315ms/step - loss: 0.1485 - accuracy: 0.9514 - val_loss: 0.5806 - val_accuracy: 0.8304\n",
            "Epoch 5/10\n",
            "1029/1029 [==============================] - 325s 316ms/step - loss: 0.1067 - accuracy: 0.9657 - val_loss: 0.6473 - val_accuracy: 0.8156\n",
            "Epoch 6/10\n",
            "1029/1029 [==============================] - 332s 322ms/step - loss: 0.0737 - accuracy: 0.9765 - val_loss: 0.7415 - val_accuracy: 0.8124\n",
            "--> Callback: Reached 97% accuracy. That's perfect, Cheers! <--\n"
          ],
          "name": "stdout"
        }
      ]
    },
    {
      "cell_type": "markdown",
      "metadata": {
        "id": "adQPsyhGW-dQ"
      },
      "source": [
        "## Making predictions on test data"
      ]
    },
    {
      "cell_type": "code",
      "metadata": {
        "id": "a22ST2K-91hw"
      },
      "source": [
        "test = test_data[['OriginalTweet','Sentiment']]"
      ],
      "execution_count": 84,
      "outputs": []
    },
    {
      "cell_type": "code",
      "metadata": {
        "colab": {
          "base_uri": "https://localhost:8080/"
        },
        "id": "_7yWMc2w973B",
        "outputId": "65fbd3b6-c0e0-4011-ca91-6f103069751b"
      },
      "source": [
        "test['processed_tweet'] = test_data['OriginalTweet'].apply(process_text)"
      ],
      "execution_count": 85,
      "outputs": [
        {
          "output_type": "stream",
          "text": [
            "/usr/local/lib/python3.7/dist-packages/ipykernel_launcher.py:1: SettingWithCopyWarning: \n",
            "A value is trying to be set on a copy of a slice from a DataFrame.\n",
            "Try using .loc[row_indexer,col_indexer] = value instead\n",
            "\n",
            "See the caveats in the documentation: https://pandas.pydata.org/pandas-docs/stable/user_guide/indexing.html#returning-a-view-versus-a-copy\n",
            "  \"\"\"Entry point for launching an IPython kernel.\n"
          ],
          "name": "stderr"
        }
      ]
    },
    {
      "cell_type": "code",
      "metadata": {
        "colab": {
          "base_uri": "https://localhost:8080/"
        },
        "id": "62LpwWdq97y_",
        "outputId": "19d7435f-2738-4883-817d-5bcb559cf741"
      },
      "source": [
        "test['new_sentiment'] = test_data['Sentiment'].apply(encode_sentiment)"
      ],
      "execution_count": 86,
      "outputs": [
        {
          "output_type": "stream",
          "text": [
            "/usr/local/lib/python3.7/dist-packages/ipykernel_launcher.py:1: SettingWithCopyWarning: \n",
            "A value is trying to be set on a copy of a slice from a DataFrame.\n",
            "Try using .loc[row_indexer,col_indexer] = value instead\n",
            "\n",
            "See the caveats in the documentation: https://pandas.pydata.org/pandas-docs/stable/user_guide/indexing.html#returning-a-view-versus-a-copy\n",
            "  \"\"\"Entry point for launching an IPython kernel.\n"
          ],
          "name": "stderr"
        }
      ]
    },
    {
      "cell_type": "code",
      "metadata": {
        "colab": {
          "base_uri": "https://localhost:8080/"
        },
        "id": "ryPDMOyv97vl",
        "outputId": "796a7ea2-362f-4682-937d-7889644be05f"
      },
      "source": [
        "test.drop(['OriginalTweet','Sentiment'],inplace=True,axis=1)"
      ],
      "execution_count": 87,
      "outputs": [
        {
          "output_type": "stream",
          "text": [
            "/usr/local/lib/python3.7/dist-packages/pandas/core/frame.py:4174: SettingWithCopyWarning: \n",
            "A value is trying to be set on a copy of a slice from a DataFrame\n",
            "\n",
            "See the caveats in the documentation: https://pandas.pydata.org/pandas-docs/stable/user_guide/indexing.html#returning-a-view-versus-a-copy\n",
            "  errors=errors,\n"
          ],
          "name": "stderr"
        }
      ]
    },
    {
      "cell_type": "code",
      "metadata": {
        "colab": {
          "base_uri": "https://localhost:8080/",
          "height": 205
        },
        "id": "0M-6-EuG97qP",
        "outputId": "9abcc6e7-9d89-463d-9f79-701cecf77444"
      },
      "source": [
        "test.head()"
      ],
      "execution_count": 88,
      "outputs": [
        {
          "output_type": "execute_result",
          "data": {
            "text/html": [
              "<div>\n",
              "<style scoped>\n",
              "    .dataframe tbody tr th:only-of-type {\n",
              "        vertical-align: middle;\n",
              "    }\n",
              "\n",
              "    .dataframe tbody tr th {\n",
              "        vertical-align: top;\n",
              "    }\n",
              "\n",
              "    .dataframe thead th {\n",
              "        text-align: right;\n",
              "    }\n",
              "</style>\n",
              "<table border=\"1\" class=\"dataframe\">\n",
              "  <thead>\n",
              "    <tr style=\"text-align: right;\">\n",
              "      <th></th>\n",
              "      <th>processed_tweet</th>\n",
              "      <th>new_sentiment</th>\n",
              "    </tr>\n",
              "  </thead>\n",
              "  <tbody>\n",
              "    <tr>\n",
              "      <th>0</th>\n",
              "      <td>trending new yorkers encounter empty supermark...</td>\n",
              "      <td>1</td>\n",
              "    </tr>\n",
              "    <tr>\n",
              "      <th>1</th>\n",
              "      <td>couldnt find hand sanitizer fred meyer turned ...</td>\n",
              "      <td>2</td>\n",
              "    </tr>\n",
              "    <tr>\n",
              "      <th>2</th>\n",
              "      <td>find protect loved ones coronavirus</td>\n",
              "      <td>2</td>\n",
              "    </tr>\n",
              "    <tr>\n",
              "      <th>3</th>\n",
              "      <td>panic buying hits newyork city anxious shopper...</td>\n",
              "      <td>1</td>\n",
              "    </tr>\n",
              "    <tr>\n",
              "      <th>4</th>\n",
              "      <td>toiletpaper dunnypaper coronavirus coronavirus...</td>\n",
              "      <td>0</td>\n",
              "    </tr>\n",
              "  </tbody>\n",
              "</table>\n",
              "</div>"
            ],
            "text/plain": [
              "                                     processed_tweet  new_sentiment\n",
              "0  trending new yorkers encounter empty supermark...              1\n",
              "1  couldnt find hand sanitizer fred meyer turned ...              2\n",
              "2                find protect loved ones coronavirus              2\n",
              "3  panic buying hits newyork city anxious shopper...              1\n",
              "4  toiletpaper dunnypaper coronavirus coronavirus...              0"
            ]
          },
          "metadata": {
            "tags": []
          },
          "execution_count": 88
        }
      ]
    },
    {
      "cell_type": "code",
      "metadata": {
        "id": "p1RPU6zk97m-"
      },
      "source": [
        "test_tweet = test['processed_tweet'].values\n",
        "test_sentiment = test['new_sentiment'].values"
      ],
      "execution_count": 89,
      "outputs": []
    },
    {
      "cell_type": "code",
      "metadata": {
        "id": "7MGyrI0i97j0"
      },
      "source": [
        "convert_seq = tokenizer.texts_to_sequences(test_tweet)"
      ],
      "execution_count": 90,
      "outputs": []
    },
    {
      "cell_type": "code",
      "metadata": {
        "id": "yBYu9kvL97gk"
      },
      "source": [
        "convert_seq = pad_sequences(convert_seq,padding='post')"
      ],
      "execution_count": 91,
      "outputs": []
    },
    {
      "cell_type": "code",
      "metadata": {
        "colab": {
          "base_uri": "https://localhost:8080/"
        },
        "id": "UUwUwESY97dI",
        "outputId": "83eafaf2-cb70-4e92-8720-0d39a813b135"
      },
      "source": [
        "predict = model.predict_classes(convert_seq)"
      ],
      "execution_count": 92,
      "outputs": [
        {
          "output_type": "stream",
          "text": [
            "/usr/local/lib/python3.7/dist-packages/tensorflow/python/keras/engine/sequential.py:455: UserWarning: `model.predict_classes()` is deprecated and will be removed after 2021-01-01. Please use instead:* `np.argmax(model.predict(x), axis=-1)`,   if your model does multi-class classification   (e.g. if it uses a `softmax` last-layer activation).* `(model.predict(x) > 0.5).astype(\"int32\")`,   if your model does binary classification   (e.g. if it uses a `sigmoid` last-layer activation).\n",
            "  warnings.warn('`model.predict_classes()` is deprecated and '\n"
          ],
          "name": "stderr"
        },
        {
          "output_type": "stream",
          "text": [
            "WARNING:tensorflow:Model was constructed with shape (None, 46) for input KerasTensor(type_spec=TensorSpec(shape=(None, 46), dtype=tf.float32, name='embedding_2_input'), name='embedding_2_input', description=\"created by layer 'embedding_2_input'\"), but it was called on an input with incompatible shape (None, 40).\n"
          ],
          "name": "stdout"
        }
      ]
    },
    {
      "cell_type": "code",
      "metadata": {
        "colab": {
          "base_uri": "https://localhost:8080/"
        },
        "id": "twLvK7hQ97XL",
        "outputId": "e54a85e0-2216-4910-9b4c-1cb4d34ee692"
      },
      "source": [
        "print(f\"The accuracy is : { accuracy_score(test_sentiment,predict)*100}%\")"
      ],
      "execution_count": 93,
      "outputs": [
        {
          "output_type": "stream",
          "text": [
            "The accuracy is : 78.4623486045287%\n"
          ],
          "name": "stdout"
        }
      ]
    },
    {
      "cell_type": "markdown",
      "metadata": {
        "id": "2MgyQ7oWXVUX"
      },
      "source": [
        "## Plot loss, Accuracy, Classification report and Confusion Matrix"
      ]
    },
    {
      "cell_type": "code",
      "metadata": {
        "colab": {
          "base_uri": "https://localhost:8080/",
          "height": 552
        },
        "id": "EXUIpCH897PE",
        "outputId": "2fdb841e-4bfa-463d-e8d2-48173b88d27b"
      },
      "source": [
        "sns.heatmap(confusion_matrix(test_sentiment,predict),annot=True, fmt=\"d\", cmap='YlGnBu')"
      ],
      "execution_count": 94,
      "outputs": [
        {
          "output_type": "execute_result",
          "data": {
            "text/plain": [
              "<matplotlib.axes._subplots.AxesSubplot at 0x7fdf665464d0>"
            ]
          },
          "metadata": {
            "tags": []
          },
          "execution_count": 94
        },
        {
          "output_type": "display_data",
          "data": {
            "image/png": "[encoded data removed]",
            "text/plain": [
              "<Figure size 1080x648 with 2 Axes>"
            ]
          },
          "metadata": {
            "tags": []
          }
        }
      ]
    },
    {
      "cell_type": "code",
      "metadata": {
        "colab": {
          "base_uri": "https://localhost:8080/",
          "height": 331
        },
        "id": "TpV4ajHoO-36",
        "outputId": "3da221ae-0f9b-42f8-853f-1e9e9eed86e3"
      },
      "source": [
        "plt.style.use('seaborn-whitegrid')\n",
        "\n",
        "def plot_acc(history):\n",
        "  acc = history.history['accuracy']\n",
        "  val_acc = history.history['val_accuracy']\n",
        "  epochs = range(len(acc))\n",
        "  plt.subplot(1, 2, 1)\n",
        "  acc_plot, = plt.plot(epochs, acc, 'r')\n",
        "  val_acc_plot, = plt.plot(epochs, val_acc, 'b')\n",
        "  plt.title('Training and Validation Accuracy')\n",
        "  plt.legend([acc_plot, val_acc_plot], ['Training Accuracy', 'Validation Accuracy'])\n",
        "\n",
        "\n",
        "def plot_loss(history):\n",
        "  loss = history.history['loss']\n",
        "  val_loss = history.history['val_loss']\n",
        "  epochs = range(len(loss))\n",
        "  plt.subplot(1, 2, 2)\n",
        "  loss_plot, = plt.plot(epochs, loss, 'r')\n",
        "  val_loss_plot, = plt.plot(epochs, val_loss, 'b')\n",
        "  plt.title('Training and Validation Loss')\n",
        "  plt.legend([loss_plot, val_loss_plot], ['Training Loss', 'Validation Loss'])\n",
        "\n",
        "def plot_history(history):\n",
        "  plt.figure(figsize=(15,5))\n",
        "  plot_acc(history)\n",
        "  plot_loss(history)\n",
        "\n",
        "\n",
        "plot_history(history)"
      ],
      "execution_count": 95,
      "outputs": [
        {
          "output_type": "display_data",
          "data": {
            "image/png": "[encoded data removed]",
            "text/plain": [
              "<Figure size 1080x360 with 2 Axes>"
            ]
          },
          "metadata": {
            "tags": []
          }
        }
      ]
    }
  ]
}